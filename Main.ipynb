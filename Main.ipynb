{
 "cells": [
  {
   "cell_type": "markdown",
   "metadata": {},
   "source": [
    "# DATA MANAGEMENT PROJECT TESTS"
   ]
  },
  {
   "cell_type": "markdown",
   "metadata": {},
   "source": [
    "### I. Importation des données"
   ]
  },
  {
   "cell_type": "code",
   "execution_count": null,
   "metadata": {},
   "outputs": [],
   "source": [
    "import sqlite3\n",
    "import pandas as pd\n",
    "from faker import Faker\n",
    "from data_loader_v2 import get_financial_data\n",
    "import random\n",
    "\n",
    "data = get_financial_data()\n",
    "fake = Faker()\n",
    "data"
   ]
  },
  {
   "cell_type": "markdown",
   "metadata": {},
   "source": [
    "### II. Lancement de la création de la data base"
   ]
  },
  {
   "cell_type": "code",
   "execution_count": null,
   "metadata": {},
   "outputs": [],
   "source": [
    "import sqlite3\n",
    "import pandas as pd\n",
    "from faker import Faker\n",
    "from database_loader import lancement_base\n",
    "import random\n",
    "\n",
    "base = lancement_base()"
   ]
  },
  {
   "cell_type": "markdown",
   "metadata": {},
   "source": [
    "### III. Lancement des stratégies tous les lundis "
   ]
  },
  {
   "cell_type": "markdown",
   "metadata": {},
   "source": [
    "Lancement de la fonction LowTurnover : "
   ]
  },
  {
   "cell_type": "code",
   "execution_count": null,
   "metadata": {},
   "outputs": [],
   "source": [
    "import pandas as pd\n",
    "import numpy as np\n",
    "from datetime import datetime, timedelta\n",
    "from pandas.tseries.offsets import Week\n",
    "import sqlite3\n",
    "from base_update import insert_deals, update_pfh\n",
    "\n",
    "from data_loader_v2 import ticker, get_financial_data\n",
    "\n",
    "final_data = get_financial_data()\n",
    "\n",
    "def generate_scores_low_turnover(final_data):\n",
    "    final_data2 = final_data.copy()\n",
    "    final_data2['SMA_30'] = final_data2['Close'].rolling(window=30).mean()\n",
    "    distance_close_sma = (final_data2['Close'] - final_data2['SMA_30']) / final_data2['SMA_30']\n",
    "    final_data2['vol'] = final_data2['Close'].rolling(window=252).std() \n",
    "    average_daily_volatility = final_data2['vol'].mean()\n",
    "    \n",
    "    dist_temp = distance_close_sma.dropna() \n",
    "    if dist_temp.empty:\n",
    "         distance_sma = np.nan\n",
    "    else:\n",
    "         distance_sma = dist_temp.iloc[-1]\n",
    "    \n",
    "    score = abs(distance_sma) - 0.5*average_daily_volatility\n",
    "    \n",
    "    direction = 1 if (not np.isnan(distance_sma) and distance_sma > 0) else -1\n",
    "    return score, direction\n",
    "\n",
    "    \n",
    "def strategy_low_turnover(ranked_scores, date, turnover_month, best_scores_prev_month, deals, final_data):\n",
    "    trades = []\n",
    "    if turnover_month >= 2:\n",
    "        return trades, turnover_month\n",
    "    \n",
    "    best_performer = ranked_scores.iloc[0]\n",
    "    best_2_performer = ranked_scores.iloc[1] \n",
    "    \n",
    "    if best_performer['Score'] > best_scores_prev_month and turnover_month < 2:\n",
    "        direction = best_performer['Direction']\n",
    "        turnover_month += 1 \n",
    "        trade = f\"{'buy' if direction > 0 else 'sell'} {best_performer['ticker']} {'on '}{date_t}\"\n",
    "        trades.append(trade)\n",
    "        secteur_series = final_data.loc[final_data['ticker'] == best_performer['ticker'], 'Secteur']\n",
    "        if not secteur_series.empty:\n",
    "            secteur = secteur_series.iloc[0]  # Sélectionner la première valeur\n",
    "        else:\n",
    "            secteur = \"Autre\"  # Si aucun secteur trouvé, valeur par défaut\n",
    "        insert_trade = insert_deals(date, 2, \"Low Turnover\", 'buy' if direction > 0 else 'sell', best_performer['ticker'], 1, secteur)\n",
    "        update_pf = update_pfh(date, 2, best_performer['ticker'],'buy' if direction > 0 else 'sell', 1)\n",
    "        print(trade)\n",
    "            \n",
    "        if best_2_performer['Score'] > best_scores_prev_month and turnover_month < 2:\n",
    "            direction2 = best_2_performer['Direction']\n",
    "            turnover_month += 1 \n",
    "            trade2 = f\"{'buy' if direction2 > 0 else 'sell'} {best_2_performer['ticker']} {'on '} {date_t}\"\n",
    "            trades.append(trade2)\n",
    "\n",
    "            secteur_series = final_data.loc[final_data['ticker'] == best_2_performer['ticker'], 'Secteur']\n",
    "            if not secteur_series.empty:\n",
    "                secteur = secteur_series.iloc[0]  # Sélectionner la première valeur\n",
    "            else:\n",
    "                secteur = \"Autre\"  # Si aucun secteur trouvé, valeur par défaut\n",
    "            insert_trade = insert_deals(date, 2, \"Low Turnover\", 'buy' if direction > 0 else 'sell', best_2_performer['ticker'], 1, secteur)\n",
    "            update_pf = update_pfh(date, 2, best_2_performer['ticker'],'buy' if direction > 0 else 'sell', 1)\n",
    "            print(trade2)\n",
    "    \n",
    "    return trades, turnover_month\n",
    "\n",
    "\n",
    "trading_days = final_data[final_data['ticker'] == 'AAPL'].index\n",
    "scores = pd.DataFrame(index=trading_days, columns=ticker)\n",
    "\n",
    "date_t = trading_days[trading_days == '2023-01-09'][0]\n",
    "date_fin = trading_days[-1]\n",
    "\n",
    "turnover_month = 0\n",
    "\n",
    "deals = []  \n",
    "ranked_scores = pd.DataFrame()  \n",
    "\n",
    "last_date_used = date_t\n",
    "\n",
    "\n",
    "t_dec22 = trading_days[trading_days == '2022-12-19'][0]\n",
    "scores22 = pd.DataFrame(index=[t_dec22], columns=ticker)\n",
    "data_dec22 = final_data[final_data.index < t_dec22]\n",
    "for tic in ticker:\n",
    "    tic_data = data_dec22[data_dec22['ticker'] == tic]\n",
    "    scores22.loc[t_dec22, tic] = generate_scores_low_turnover(tic_data)\n",
    "\n",
    "\n",
    "scores_only22 = scores22.applymap(lambda x: x[0] if isinstance(x, tuple) else x)\n",
    "ranked_scores_dec22 = (\n",
    "    scores_only22.loc[t_dec22]\n",
    "    .reset_index()\n",
    "    .rename(columns={'index': 'ticker', t_dec22: 'Score'})\n",
    ")\n",
    "ranked_scores_dec22['Score'] = pd.to_numeric(ranked_scores_dec22['Score'], errors='coerce')\n",
    "ranked_scores_dec22 = ranked_scores_dec22.sort_values(by='Score', ascending=False, na_position='last').dropna(subset=['Score'])\n",
    "best_scores_prev_month = ranked_scores_dec22['Score'].head(3).mean()\n",
    "\n",
    "while date_t <= date_fin:\n",
    "   \n",
    "    if pd.to_datetime(last_date_used).month != pd.to_datetime(date_t).month:\n",
    "        turnover_month = 0\n",
    "        if not ranked_scores.empty:\n",
    "            best_scores_prev_month = ranked_scores['Score'].head(3).mean()\n",
    "\n",
    "    if date_t in trading_days:\n",
    "        data = final_data[final_data.index < date_t]\n",
    "        for tic in ticker:\n",
    "            tic_data = data[data['ticker'] == tic]\n",
    "            scores.loc[date_t, tic] = generate_scores_low_turnover(tic_data)\n",
    "        \n",
    "        current_scores = scores.loc[date_t].dropna()\n",
    "        if not current_scores.empty:\n",
    "            df_scores = current_scores.apply(\n",
    "                lambda x: pd.Series(x, index=['Score', 'Direction']) if isinstance(x, tuple) else pd.Series({'Score': np.nan, 'Direction': np.nan})\n",
    "            )\n",
    "            df_scores.dropna(inplace=True)\n",
    "            df_scores['Score'] = pd.to_numeric(df_scores['Score'], errors='coerce')\n",
    "            ranked_scores = df_scores.reset_index().rename(columns={'index': 'ticker'})\n",
    "            ranked_scores = ranked_scores.sort_values(by='Score', ascending=False)\n",
    "            \n",
    "            trades, turnover_month = strategy_low_turnover(ranked_scores, date_t, turnover_month, best_scores_prev_month, deals, final_data)\n",
    "            deals.extend(trades)\n",
    "\n",
    "        \n",
    "        last_date_used = date_t\n",
    "\n",
    "    date_t += pd.Timedelta(days=7)\n",
    "    if date_t > date_fin: \n",
    "        break\n",
    "\n",
    "print(\"\\nListe des deals :\", deals)\n",
    "print(f\"Nombre total des deals : {len(deals)}\")\n"
   ]
  },
  {
   "cell_type": "markdown",
   "metadata": {},
   "source": [
    "Lancement de la fonction equity : "
   ]
  },
  {
   "cell_type": "code",
   "execution_count": null,
   "metadata": {},
   "outputs": [],
   "source": [
    "from datetime import datetime, timedelta\n",
    "import sqlite3\n",
    "from data_loader_v2 import get_financial_data\n",
    "from base_update import insert_deals, update_pfh \n",
    "import pandas as pd\n",
    "from strategy_equity import strategy_equity_only, load_data_equity_only\n",
    "\n",
    "final = get_financial_data()\n",
    "# Charger les dates des lundis où exécuter la stratégie (exemple)\n",
    "conn = sqlite3.connect(\"fund_database.db\")\n",
    "apple_dates = pd.read_sql_query(\"SELECT DISTINCT date FROM Returns\", conn)[\"date\"]\n",
    "apple_dates = pd.to_datetime(apple_dates)\n",
    "conn.close()\n",
    "\n",
    "data_equity_only, tickers = load_data_equity_only(db_path=\"fund_database.db\")\n",
    "\n",
    "# Définition de la période\n",
    "start_date = datetime(2023, 1, 2)  \n",
    "end_date = datetime(2024, 12, 31)\n",
    "\n",
    "# Boucle sur chaque lundi\n",
    "current_date = start_date\n",
    "while current_date <= end_date:\n",
    "    if current_date in apple_dates.values: \n",
    "        print(f\"Lancement des stratégies pour {current_date.date()}...\")\n",
    "        # lancement low risk\n",
    "        equitytrategy = strategy_equity_only(data_equity_only, tickers, \"fund_database.db\", current_date)\n",
    "        print(f\"Lancement effectué pour {current_date.date()}.\")\n",
    "    current_date += timedelta(days=7)"
   ]
  },
  {
   "cell_type": "markdown",
   "metadata": {},
   "source": [
    "### IV. Lancement de la fonction de performance du portefeuille "
   ]
  },
  {
   "cell_type": "code",
   "execution_count": null,
   "metadata": {},
   "outputs": [],
   "source": [
    "from datetime import datetime, timedelta\n",
    "import sqlite3\n",
    "from performances import performance\n",
    "\n",
    "perf = performance()"
   ]
  },
  {
   "cell_type": "markdown",
   "metadata": {},
   "source": [
    "### VI. Fonctions Bonus  "
   ]
  },
  {
   "cell_type": "code",
   "execution_count": null,
   "metadata": {},
   "outputs": [],
   "source": [
    "import sys\n",
    "sys.path.append('.')\n",
    "import fonction_Bonus\n",
    "from importlib import reload\n",
    "reload(fonction_Bonus)\n",
    "print(dir(fonction_Bonus))"
   ]
  },
  {
   "cell_type": "code",
   "execution_count": null,
   "metadata": {},
   "outputs": [],
   "source": [
    "from data_loader_v2 import get_financial_data\n",
    "data = get_financial_data()   "
   ]
  },
  {
   "cell_type": "markdown",
   "metadata": {},
   "source": [
    "Lancement d'une alternative de la stratégie High Yield Equity only : "
   ]
  },
  {
   "cell_type": "code",
   "execution_count": null,
   "metadata": {},
   "outputs": [],
   "source": [
    "import pandas as pd\n",
    "from fonction_Bonus import strategy_high_yield_equity_optimization\n",
    "\n",
    "if __name__ == \"__main__\":\n",
    "    decision_date = \"2023-01-09\"\n",
    "    current_date = pd.to_datetime(decision_date)\n",
    "    portfolio = {\"AAPL\": 2.3, \"XLE\": 3.7}\n",
    "\n",
    "    # Assure-toi que la variable 'data' est correctement chargée avant cet appel.\n",
    "    new_portfolio, orders = strategy_high_yield_equity_optimization(current_date, portfolio, data.copy())\n",
    "\n",
    "    # Pour vérifier les résultats :\n",
    "    print(\"Nouveau portefeuille :\", new_portfolio)\n",
    "    print(\"Ordres recommandés :\", orders)"
   ]
  },
  {
   "cell_type": "markdown",
   "metadata": {},
   "source": [
    "Lancement d'une alternative de la stratégie Low Turnover : "
   ]
  },
  {
   "cell_type": "code",
   "execution_count": null,
   "metadata": {},
   "outputs": [],
   "source": [
    "import numpy as np\n",
    "import pandas as pd\n",
    "import sqlite3\n",
    "import random\n",
    "from datetime import datetime\n",
    "from deap import base, creator, tools, algorithms\n",
    "from fonction_Bonus import lowturnover_strategy\n",
    "\n",
    "if __name__ == \"__main__\":\n",
    "    decision_date = \"2023-01-09\"\n",
    "    portfolio = {\n",
    "       'AAPL': 2, 'ABBV': 1, 'ABT': 2.5, \n",
    "       'ACN': 6.6, 'ADBE': 9.898, 'AMD': 5.05, \n",
    "       'AMGN': 8.5, 'AMZN': 3.5, 'APD': 2.4,\n",
    "       'XOM': 1.26\n",
    "    }\n",
    "    \n",
    "    # Exemple de DataFrame factice pour 'data'\n",
    "    dates = pd.date_range(start=\"2022-01-01\", periods=200, freq='D')\n",
    "    symbols = list(portfolio.keys())\n",
    "    data = pd.DataFrame({\n",
    "        'symbole': np.random.choice(symbols, size=200),\n",
    "        'Returns': np.random.randn(200)\n",
    "    }, index=dates)\n",
    "    \n",
    "    new_portfolio, orders = lowturnover_strategy(decision_date, portfolio, data.copy())"
   ]
  }
 ],
 "metadata": {
  "kernelspec": {
   "display_name": "base",
   "language": "python",
   "name": "python3"
  },
  "language_info": {
   "codemirror_mode": {
    "name": "ipython",
    "version": 3
   },
   "file_extension": ".py",
   "mimetype": "text/x-python",
   "name": "python",
   "nbconvert_exporter": "python",
   "pygments_lexer": "ipython3",
   "version": "3.12.4"
  }
 },
 "nbformat": 4,
 "nbformat_minor": 2
}
